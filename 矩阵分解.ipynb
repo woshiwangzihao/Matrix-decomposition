{
 "cells": [
  {
   "cell_type": "code",
   "execution_count": 175,
   "id": "770c27fa",
   "metadata": {},
   "outputs": [],
   "source": [
    "import matplotlib.pyplot as plt\n",
    "from  math import pow\n",
    "import numpy\n",
    "#2D绘图库"
   ]
  },
  {
   "cell_type": "code",
   "execution_count": 176,
   "id": "d419b02a",
   "metadata": {},
   "outputs": [],
   "source": [
    "#快捷键\n",
    "\n",
    "#在光标之前增加输入行：ctrl+shift+\"-\"\n",
    "\n",
    "#删除光标所在行（包括空行）：esc+“DD”(按D两次)"
   ]
  },
  {
   "cell_type": "code",
   "execution_count": 179,
   "id": "635435c7",
   "metadata": {},
   "outputs": [
    {
     "name": "stdout",
     "output_type": "stream",
     "text": [
      "原始的评分矩阵R为：\n",
      " [[5 3 0 1]\n",
      " [4 0 0 1]\n",
      " [1 1 0 5]\n",
      " [1 0 0 4]\n",
      " [0 1 5 4]]\n",
      "经过MF算法填充0处评分值后的评分矩阵R_MF为：\n",
      " [[4.98867792 2.94386345 4.6976206  0.99719668]\n",
      " [3.96745104 2.34908284 3.91245651 0.99642297]\n",
      " [1.07691304 0.81873657 5.13126776 4.95955947]\n",
      " [0.96108439 0.71314517 4.1854634  3.97222595]\n",
      " [1.82465194 1.21867171 4.90714578 4.0394076 ]]\n"
     ]
    },
    {
     "data": {
      "image/png": "[encoded data removed]",
      "text/plain": [
       "<Figure size 640x480 with 1 Axes>"
      ]
     },
     "metadata": {},
     "output_type": "display_data"
    }
   ],
   "source": [
    "# !/usr/bin/env python\n",
    "# encoding: utf-8\n",
    "__author__ = 'Scarlett'\n",
    "#矩阵分解在打分预估系统中得到了成熟的发展和应用\n",
    "# from pylab import *\n",
    "import matplotlib.pyplot as plt\n",
    "from math import pow\n",
    "import numpy\n",
    "\n",
    "\n",
    "def matrix_factorization(R,P,Q,K,steps=5000,alpha=0.0002,beta=0.02):\n",
    "    Q=Q.T  # .T操作表示矩阵的转置\n",
    "    result=[]\n",
    "    for step in range(steps): # 迭代次数5000\n",
    "        for i in range(len(R)):# R=5*4矩阵 len = 5 = 行\n",
    "            for j in range(len(R[i])):\n",
    "                if R[i][j]>0:\n",
    "                    eij=R[i][j]-numpy.dot(P[i,:],Q[:,j]) # .dot(P,Q) 表示矩阵内积\n",
    "                    for k in range(K):     # 根据负梯度的方向更新变量：\n",
    "                        P[i][k]=P[i][k]+alpha*(2*eij*Q[k][j]-beta*P[i][k])\n",
    "                        Q[k][j]=Q[k][j]+alpha*(2*eij*P[i][k]-beta*Q[k][j])\n",
    "        eR=numpy.dot(P,Q)\n",
    "        e=0\n",
    "        for i in range(len(R)):\n",
    "            for j in range(len(R[i])):\n",
    "                if R[i][j]>0:\n",
    "                    e=e+pow(R[i][j]-numpy.dot(P[i,:],Q[:,j]),2)\n",
    "                    for k in range(K):\n",
    "                        e=e+(beta/2)*(pow(P[i][k],2)+pow(Q[k][j],2))\n",
    "        result.append(e)\n",
    "        if e<0.001:\n",
    "            break\n",
    "    return P,Q.T,result\n",
    "\n",
    "if __name__ == '__main__':\n",
    "    R=[\n",
    "        [5,3,0,1],\n",
    "        [4,0,0,1],\n",
    "        [1,1,0,5],\n",
    "        [1,0,0,4],\n",
    "        [0,1,5,4]\n",
    "    ]\n",
    "\n",
    "    R=numpy.array(R)\n",
    "\n",
    "    N=len(R)\n",
    "    M=len(R[0])\n",
    "    K=2\n",
    "\n",
    "    P=numpy.random.rand(N,K) #随机生成一个 N行 K列的矩阵\n",
    "    Q=numpy.random.rand(M,K) #随机生成一个 M行 K列的矩阵\n",
    "\n",
    "    nP,nQ,result=matrix_factorization(R,P,Q,K)\n",
    "    print(\"原始的评分矩阵R为：\\n\",R)\n",
    "    R_MF=numpy.dot(nP,nQ.T)\n",
    "    print(\"经过MF算法填充0处评分值后的评分矩阵R_MF为：\\n\",R_MF)\n",
    "\n",
    "#-------------损失函数的收敛曲线图---------------\n",
    "\n",
    "    n=len(result)\n",
    "    x=range(n)\n",
    "    plt.plot(x,result,color='r',linewidth=3)\n",
    "    plt.title(\"Convergence curve\")\n",
    "    plt.xlabel(\"generation\")\n",
    "    plt.ylabel(\"loss\")\n",
    "    plt.show()"
   ]
  },
  {
   "cell_type": "code",
   "execution_count": null,
   "id": "cf353f6e",
   "metadata": {},
   "outputs": [],
   "source": []
  }
 ],
 "metadata": {
  "kernelspec": {
   "display_name": "Python 3 (ipykernel)",
   "language": "python",
   "name": "python3"
  },
  "language_info": {
   "codemirror_mode": {
    "name": "ipython",
    "version": 3
   },
   "file_extension": ".py",
   "mimetype": "text/x-python",
   "name": "python",
   "nbconvert_exporter": "python",
   "pygments_lexer": "ipython3",
   "version": "3.9.13"
  }
 },
 "nbformat": 4,
 "nbformat_minor": 5
}
