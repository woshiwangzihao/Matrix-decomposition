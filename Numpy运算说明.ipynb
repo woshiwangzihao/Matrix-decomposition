{
 "cells": [
  {
   "cell_type": "code",
   "execution_count": 13,
   "id": "01c67c88",
   "metadata": {},
   "outputs": [
    {
     "name": "stdout",
     "output_type": "stream",
     "text": [
      "[[35 21 13  9  7]\n",
      " [21 17  9  8  4]\n",
      " [13  9 27 21 21]\n",
      " [ 9  8 21 17 16]\n",
      " [ 7  4 21 16 42]]\n",
      "P = \n",
      " [[2 3]\n",
      " [2 3]\n",
      " [2 4]\n",
      " [2 3]\n",
      " [3 3]]\n",
      "Q = \n",
      " [[2 2]\n",
      " [2 3]\n",
      " [4 4]\n",
      " [3 4]\n",
      " [2 3]]\n",
      "Q.T = \n",
      " [[2 2 4 3 2]\n",
      " [2 3 4 4 3]]\n",
      "P[0][0] =  2\n",
      "Q[0][0] =  2\n",
      "Q[0][0] =  5\n",
      "numpy.dot(P[:, 0], Q[0, :] =  28\n",
      "P[:, 0] =  [2 2 2 2 3]\n",
      "Q[0, :] =  [2 2 4 3 2]\n",
      "-23\n"
     ]
    }
   ],
   "source": [
    "import numpy\n",
    "\n",
    "R = [[5, 3, 0, 1],\n",
    "    [4, 0, 0, 1],\n",
    "    [1, 1, 0, 5],\n",
    "    [1, 0, 0, 4],\n",
    "    [0, 1, 5, 4]\n",
    "]\n",
    "\n",
    "S =np.array( [[5, 3, 0, 1],\n",
    "    [4, 0, 0, 1],\n",
    "    [1, 1, 0, 5],\n",
    "    [1, 0, 0, 4],\n",
    "    [0, 1, 5, 4]\n",
    "])\n",
    "S=S.T\n",
    "eR=numpy.dot(R,S) #矩阵点乘操作\n",
    "\n",
    "print(eR)\n",
    "# numpy.random.randint(low, high=None, size=None, dtype='l')\n",
    "# 函数的作用是，返回一个随机整型数，范围从低（包括）到高（不包括），即[low, high)。\n",
    "# 如果没有写参数high的值，则返回[0,low)的值。\n",
    "P=numpy.random.randint(low=2, high=5, size=(5, 2)) #随机生成一个 5行 2列的矩阵\n",
    "Q=numpy.random.randint(low=2, high=5, size=(5, 2)) #随机生成一个 5行 2列的矩阵\n",
    "print(\"P = \\n\", P)\n",
    "print(\"Q = \\n\", Q)\n",
    "Q=Q.T\n",
    "print(\"Q.T = \\n\", Q)\n",
    "# 访问 P 和 Q 的元素\n",
    "print(\"P[0][0] = \",P[0][0])\n",
    "print(\"Q[0][0] = \",Q[0][0])\n",
    "\n",
    "# 计算 P 的第一列和 Q 的第一行的内积\n",
    "print(\"Q[0][0] = \",R[0][0])\n",
    "print(\"numpy.dot(P[:, 0], Q[0, :] = \",numpy.dot(P[:, 0], Q[0, :]))\n",
    "\n",
    "\n",
    "print(\"P[:, 0] = \",P[:, 0])\n",
    "print(\"Q[0, :] = \",Q[0, :])\n",
    "e = R[0][0]-numpy.dot(P[:, 0], Q[0, :])\n",
    "print(e)\n"
   ]
  },
  {
   "cell_type": "code",
   "execution_count": 8,
   "id": "416f9cb1",
   "metadata": {},
   "outputs": [
    {
     "name": "stdout",
     "output_type": "stream",
     "text": [
      "[2 5 6 1 9]\n",
      "Matrix:\n",
      "[[2 5 6 1 9]\n",
      " [3 4 1 8 6]\n",
      " [9 1 1 5 3]\n",
      " [4 7 7 6 1]\n",
      " [1 1 8 2 3]]\n",
      "Result:\n",
      "86\n"
     ]
    }
   ],
   "source": [
    "import numpy as np\n",
    "\n",
    "# 生成一个5*5的随机矩阵\n",
    "mat = np.array([\n",
    "    [2, 5, 6, 1, 9],\n",
    "    [3, 4, 1, 8, 6],\n",
    "    [9, 1, 1, 5, 3],\n",
    "    [4, 7, 7, 6, 1],\n",
    "    [1, 1, 8, 2, 3]\n",
    "])\n",
    "# mat = [\n",
    "#     [2, 5, 6, 1, 9],\n",
    "#     [3, 4, 1, 8, 6],\n",
    "#     [9, 1, 1, 5, 3],\n",
    "#     [4, 7, 7, 6, 1],\n",
    "#     [1, 1, 8, 2, 3]\n",
    "# ]\n",
    "# 在使用NumPy库时，\n",
    "# 需要将列表转换为NumPy数组，\n",
    "# 这是因为NumPy数组支持向量化运算和广播，\n",
    "# 而列表不支持这些功能。因此，\n",
    "# 使用np.array()函数将列表转换为NumPy数组，可以更方便地进行矩阵运算和其他数学操作。\n",
    "# 在这个例子中，第一个代码段使用了np.array()函数将列表转换为NumPy数组，\n",
    "# 而第二个代码段直接使用列表，因此第二个代码段在进行矩阵运算时会报错。\n",
    "print(mat[0, :])\n",
    "# 打印矩阵\n",
    "print(\"Matrix:\")\n",
    "print(mat)\n",
    "\n",
    "# 计算第一行和第一列的点乘\n",
    "result = np.dot(mat[0, :], mat[:, 0])\n",
    "print(\"Result:\")\n",
    "print(result)\n"
   ]
  },
  {
   "cell_type": "code",
   "execution_count": null,
   "id": "d65ffc1b",
   "metadata": {},
   "outputs": [],
   "source": []
  }
 ],
 "metadata": {
  "kernelspec": {
   "display_name": "Python 3 (ipykernel)",
   "language": "python",
   "name": "python3"
  },
  "language_info": {
   "codemirror_mode": {
    "name": "ipython",
    "version": 3
   },
   "file_extension": ".py",
   "mimetype": "text/x-python",
   "name": "python",
   "nbconvert_exporter": "python",
   "pygments_lexer": "ipython3",
   "version": "3.9.13"
  }
 },
 "nbformat": 4,
 "nbformat_minor": 5
}
